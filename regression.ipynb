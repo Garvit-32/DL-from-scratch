{
  "nbformat": 4,
  "nbformat_minor": 0,
  "metadata": {
    "colab": {
      "name": "Regression.ipynb",
      "provenance": [],
      "collapsed_sections": [],
      "toc_visible": true
    },
    "kernelspec": {
      "name": "python3",
      "display_name": "Python 3"
    }
  },
  "cells": [
    {
      "cell_type": "markdown",
      "metadata": {
        "id": "9UgisCv3fq0N",
        "colab_type": "text"
      },
      "source": [
        "# Linear Regression\n"
      ]
    },
    {
      "cell_type": "markdown",
      "metadata": {
        "id": "PfduTJLU41dD",
        "colab_type": "text"
      },
      "source": [
        "## Imports"
      ]
    },
    {
      "cell_type": "code",
      "metadata": {
        "id": "pTpOonOJ44XP",
        "colab_type": "code",
        "colab": {}
      },
      "source": [
        "import matplotlib.pyplot as plt\n",
        "import matplotlib\n",
        "import numpy as np\n",
        "from numpy import ndarray\n",
        "from typing import List, Callable, Dict, Tuple"
      ],
      "execution_count": 80,
      "outputs": []
    },
    {
      "cell_type": "markdown",
      "metadata": {
        "id": "E0vWgruBfvMq",
        "colab_type": "text"
      },
      "source": [
        "## Forward and Backward Pass"
      ]
    },
    {
      "cell_type": "code",
      "metadata": {
        "id": "OBxF4wSif92c",
        "colab_type": "code",
        "colab": {}
      },
      "source": [
        "def forward_loss(X_batch: ndarray, y_batch: ndarray, weights: Dict[str, ndarray]) -> Tuple[float, Dict[str, ndarray]]:\n",
        "\n",
        "    # Forward pass for the linear regression\n",
        "\n",
        "    assert X_batch.shape[0] == y_batch.shape[0]\n",
        "    assert X_batch.shape[1] == weights['W'].shape[0]\n",
        "    assert weights['B'].shape[0] == weights['B'].shape[1] == 1\n",
        "\n",
        "    N = np.dot(X_batch, weights['W'])\n",
        "    P = N + weights['B']\n",
        "    loss = np.mean(np.power(y_batch-P, 2))\n",
        "\n",
        "    forward_info: Dict[str, ndarray] = {}\n",
        "    forward_info['X'] = X_batch\n",
        "    forward_info['N'] = N\n",
        "    forward_info['P'] = P\n",
        "    forward_info['y'] = y_batch\n",
        "\n",
        "    return loss, forward_info\n",
        "\n",
        "\n",
        "def loss_gradients(forward_info: Dict[str, ndarray], weights: Dict[str, ndarray]) -> Dict[str, ndarray]:\n",
        "\n",
        "    # Compute dLdB and dLdW for linear regression (Backward Pass)\n",
        "    batch_size = forward_info['X'].shape[0]\n",
        "\n",
        "    dLdP = -2 * (forward_info['y'] - forward_info['P'])\n",
        "\n",
        "    dPdN = np.ones_like(forward_info['N'])\n",
        "\n",
        "    dPdB = np.ones_like(weights['B'])\n",
        "\n",
        "    dLdN = dLdP * dPdN\n",
        "\n",
        "    dNdW = np.transpose(forward_info['X'], (1, 0))\n",
        "\n",
        "    dLdW = np.dot(dNdW, dLdN)\n",
        "\n",
        "    dLdB = (dLdP * dPdB).sum(axis=0)\n",
        "\n",
        "    loss_gradients: Dict[str, ndarray] = {}\n",
        "    loss_gradients['W'] = dLdW\n",
        "    loss_gradients['B'] = dLdB\n",
        "\n",
        "    return loss_gradients"
      ],
      "execution_count": 81,
      "outputs": []
    },
    {
      "cell_type": "markdown",
      "metadata": {
        "id": "z5xE0L3lgE17",
        "colab_type": "text"
      },
      "source": [
        "## Model Error"
      ]
    },
    {
      "cell_type": "code",
      "metadata": {
        "id": "jiA484WBgHsb",
        "colab_type": "code",
        "colab": {}
      },
      "source": [
        "def mae(preds: ndarray, actuals:  ndarray):\n",
        "\n",
        "    # Compute mean absolute error\n",
        "\n",
        "    return np.mean(np.abs(preds-actuals))\n",
        "\n",
        "\n",
        "def rmse(preds: ndarray, actuals: ndarray):\n",
        "    # Compute root mean squared error\n",
        "\n",
        "    return np.sqrt(np.mean(np.power(preds-actuals, 2)))"
      ],
      "execution_count": 82,
      "outputs": []
    },
    {
      "cell_type": "markdown",
      "metadata": {
        "id": "ypFfF_1ggOK0",
        "colab_type": "text"
      },
      "source": [
        "## Utils"
      ]
    },
    {
      "cell_type": "code",
      "metadata": {
        "id": "KFSWY03fgSpE",
        "colab_type": "code",
        "colab": {}
      },
      "source": [
        "def permute_data(X: ndarray, y: ndarray):\n",
        "\n",
        "    # Permute X and y using the same permutation along axis = 0\n",
        "\n",
        "    perm = np.random.permutation(X.shape[0])\n",
        "    return X[perm], y[perm]\n",
        "\n",
        "\n",
        "Batch = Tuple[ndarray, ndarray]\n",
        "\n",
        "\n",
        "def generate_batch(X: ndarray, y: ndarray, start: int = 0, batch_size: int = 10) -> Batch:\n",
        "\n",
        "    # Generate batch from given x and y\n",
        "\n",
        "    assert X.ndim == y.ndim == 2\n",
        "\n",
        "    if start + batch_size > X.shape[0]:\n",
        "        batch_size = X.shape[0] - start\n",
        "\n",
        "    X_batch, y_batch = X[start:start+batch_size], y[start:start+batch_size]\n",
        "\n",
        "    return X_batch, y_batch\n",
        "\n",
        "\n",
        "def init_weights(n_in: int) -> Dict[str, ndarray]:\n",
        "\n",
        "    # Initialize weights on first forward pass of model\n",
        "\n",
        "    weights: Dict[str, ndarray] = {}\n",
        "\n",
        "    W = np.random.randn(n_in, 1)\n",
        "    B = np.random.randn(1, 1)\n",
        "\n",
        "    weights['W'] = W\n",
        "    weights['B'] = B\n",
        "\n",
        "    return weights\n",
        "\n",
        "def r2_score(preds: ndarray, y_test: ndarray) -> ndarray:\n",
        "\n",
        "    return 1 - np.abs(np.round(np.mean((y_test-preds)/y_test), 4))"
      ],
      "execution_count": 83,
      "outputs": []
    },
    {
      "cell_type": "markdown",
      "metadata": {
        "id": "07mO60CugP2z",
        "colab_type": "text"
      },
      "source": [
        "## Train Function"
      ]
    },
    {
      "cell_type": "code",
      "metadata": {
        "id": "rIwRXcJ8gdc8",
        "colab_type": "code",
        "colab": {}
      },
      "source": [
        "def train(X: ndarray, y: ndarray, n_iter: int = 1000, learning_rate: float = 0.01, batch_size: int = 100, return_losses: bool = False, return_weights: bool = False) -> None:\n",
        "\n",
        "    # Train model for certain number of epochs\n",
        "\n",
        "    start = 0\n",
        "\n",
        "    # Initialize weights\n",
        "    weights = init_weights(X.shape[1])\n",
        "\n",
        "    # Permute Data\n",
        "    X, y = permute_data(X, y)\n",
        "\n",
        "    if return_losses:\n",
        "        losses = []\n",
        "\n",
        "    for i in range(n_iter):\n",
        "\n",
        "        # Generate Batch\n",
        "        if start >= X.shape[0]:\n",
        "            X, y = permute_data(X, y)\n",
        "            start = 0\n",
        "\n",
        "        X_batch, y_batch = generate_batch(X, y, start, batch_size)\n",
        "        start += batch_size\n",
        "\n",
        "        # Train net using generated batch\n",
        "        loss, forward_info = forward_loss(X_batch, y_batch, weights)\n",
        "\n",
        "        if return_losses:\n",
        "            losses.append(loss)\n",
        "\n",
        "        loss_grads = loss_gradients(forward_info, weights)\n",
        "\n",
        "        for key in weights.keys():\n",
        "            weights[key] -= learning_rate * loss_grads[key]\n",
        "\n",
        "    if return_weights:\n",
        "        return losses, weights\n",
        "\n",
        "    return None"
      ],
      "execution_count": 84,
      "outputs": []
    },
    {
      "cell_type": "markdown",
      "metadata": {
        "id": "3s9QSWAu2xS9",
        "colab_type": "text"
      },
      "source": [
        "## Data Preparation\n"
      ]
    },
    {
      "cell_type": "code",
      "metadata": {
        "id": "R_3alFdE2zzD",
        "colab_type": "code",
        "colab": {}
      },
      "source": [
        "# For data i use sklearn\n",
        "\n",
        "from sklearn.datasets import load_boston\n",
        "from sklearn.preprocessing import StandardScaler\n",
        "from sklearn.model_selection import train_test_split\n",
        "\n",
        "boston = load_boston()\n",
        "\n",
        "data = boston.data\n",
        "\n",
        "target = boston.target\n",
        "features = boston.feature_names\n",
        "\n",
        "# Standarize data by removing the mean and scaling to unit variance\n",
        "s = StandardScaler()\n",
        "data = s.fit_transform(data)\n",
        "\n",
        "X_train, X_test, y_train, y_test = train_test_split(data, target, test_size=0.3)\n",
        "\n",
        "y_train, y_test = y_train.reshape(-1, 1), y_test.reshape(-1, 1)"
      ],
      "execution_count": 85,
      "outputs": []
    },
    {
      "cell_type": "markdown",
      "metadata": {
        "id": "X1fsm7Qn3EHj",
        "colab_type": "text"
      },
      "source": [
        "## Training"
      ]
    },
    {
      "cell_type": "code",
      "metadata": {
        "id": "5l5SZNUu3FwT",
        "colab_type": "code",
        "colab": {}
      },
      "source": [
        "train_info = train(X_train, y_train, n_iter=1000, learning_rate=0.001,\n",
        "                   batch_size=23, return_losses=True, return_weights=True)\n",
        "\n",
        "losses = train_info[0]\n",
        "weights = train_info[1]"
      ],
      "execution_count": 86,
      "outputs": []
    },
    {
      "cell_type": "markdown",
      "metadata": {
        "id": "mjLSkjlS3Waz",
        "colab_type": "text"
      },
      "source": [
        "Ploting Loss\n"
      ]
    },
    {
      "cell_type": "code",
      "metadata": {
        "id": "5KNdhSFY3bqr",
        "colab_type": "code",
        "colab": {
          "base_uri": "https://localhost:8080/",
          "height": 282
        },
        "outputId": "1ffd3dcb-b53e-42ca-f850-df8642799608"
      },
      "source": [
        "plt.plot(list(range(1000)), losses)"
      ],
      "execution_count": 87,
      "outputs": [
        {
          "output_type": "execute_result",
          "data": {
            "text/plain": [
              "[<matplotlib.lines.Line2D at 0x7f68c6dbcd30>]"
            ]
          },
          "metadata": {
            "tags": []
          },
          "execution_count": 87
        },
        {
          "output_type": "display_data",
          "data": {
            "image/png": "[encoded data removed]",
            "text/plain": [
              "<Figure size 432x288 with 1 Axes>"
            ]
          },
          "metadata": {
            "tags": [],
            "needs_background": "light"
          }
        }
      ]
    },
    {
      "cell_type": "markdown",
      "metadata": {
        "id": "SwQtHc4y3fh8",
        "colab_type": "text"
      },
      "source": [
        "## Prediction\n",
        "\n"
      ]
    },
    {
      "cell_type": "code",
      "metadata": {
        "id": "3gt52s793iwb",
        "colab_type": "code",
        "colab": {}
      },
      "source": [
        "def predict(X: ndarray, weights: Dict[str, ndarray]):\n",
        "\n",
        "    # Generate predictions\n",
        "\n",
        "    N = np.dot(X, weights['W'])\n",
        "\n",
        "    return N + weights['B']"
      ],
      "execution_count": 88,
      "outputs": []
    },
    {
      "cell_type": "code",
      "metadata": {
        "id": "TgvopF1H3qV7",
        "colab_type": "code",
        "colab": {}
      },
      "source": [
        "preds = predict(X_test, weights)"
      ],
      "execution_count": 89,
      "outputs": []
    },
    {
      "cell_type": "code",
      "metadata": {
        "id": "rJu7vQ4M4BId",
        "colab_type": "code",
        "colab": {
          "base_uri": "https://localhost:8080/",
          "height": 52
        },
        "outputId": "07ae97a8-71f8-4e4e-b142-79774466dc19"
      },
      "source": [
        "print(\"Mean absolute error:\", round(mae(preds, y_test), 4))\n",
        "print(\"Root mean squared error:\", round(rmse(preds, y_test), 4))"
      ],
      "execution_count": 90,
      "outputs": [
        {
          "output_type": "stream",
          "text": [
            "Mean absolute error: 3.4231\n",
            "Root mean squared error: 4.8126\n"
          ],
          "name": "stdout"
        }
      ]
    },
    {
      "cell_type": "code",
      "metadata": {
        "id": "77gCaipEF2MA",
        "colab_type": "code",
        "colab": {
          "base_uri": "https://localhost:8080/",
          "height": 328
        },
        "outputId": "968930aa-4a36-45ca-e717-50d4f983d252"
      },
      "source": [
        "plt.xlabel(\"Predicted value\")\n",
        "plt.ylabel(\"Actual value\")\n",
        "plt.title(\"Predicted vs. Actual values for\\ncustom linear regression model\");\n",
        "plt.xlim([0, 51])\n",
        "plt.ylim([0, 51])\n",
        "plt.scatter(preds, y_test)\n",
        "plt.plot([0, 51], [0, 51])"
      ],
      "execution_count": 91,
      "outputs": [
        {
          "output_type": "execute_result",
          "data": {
            "text/plain": [
              "[<matplotlib.lines.Line2D at 0x7f68c6c5dc18>]"
            ]
          },
          "metadata": {
            "tags": []
          },
          "execution_count": 91
        },
        {
          "output_type": "display_data",
          "data": {
            "image/png": "[encoded data removed]",
            "text/plain": [
              "<Figure size 432x288 with 1 Axes>"
            ]
          },
          "metadata": {
            "tags": [],
            "needs_background": "light"
          }
        }
      ]
    },
    {
      "cell_type": "markdown",
      "metadata": {
        "id": "aK3-voQrHujx",
        "colab_type": "text"
      },
      "source": [
        "## Via Scikit-Learn"
      ]
    },
    {
      "cell_type": "code",
      "metadata": {
        "id": "-TDEooeBHx38",
        "colab_type": "code",
        "colab": {
          "base_uri": "https://localhost:8080/",
          "height": 328
        },
        "outputId": "6d4c243b-b1c0-4739-fb22-85c7ed8d46e7"
      },
      "source": [
        "from sklearn.linear_model import LinearRegression\n",
        " \n",
        "lr = LinearRegression()\n",
        "lr.fit(X_train,y_train)\n",
        "\n",
        "preds = lr.predict(X_test)\n",
        "\n",
        "plt.xlabel(\"Predicted value\")\n",
        "plt.ylabel(\"Actual value\")\n",
        "plt.title(\"Predicted vs. Actual values for\\n Scikit Linear Regression model\")\n",
        "plt.xlim([0, 51])\n",
        "plt.ylim([0, 51])\n",
        "plt.scatter(preds, y_test)\n",
        "# plt.plot([0, 51], [0, 51]);"
      ],
      "execution_count": 92,
      "outputs": [
        {
          "output_type": "execute_result",
          "data": {
            "text/plain": [
              "<matplotlib.collections.PathCollection at 0x7f68c8ae9438>"
            ]
          },
          "metadata": {
            "tags": []
          },
          "execution_count": 92
        },
        {
          "output_type": "display_data",
          "data": {
            "image/png": "[encoded data removed]",
            "text/plain": [
              "<Figure size 432x288 with 1 Axes>"
            ]
          },
          "metadata": {
            "tags": [],
            "needs_background": "light"
          }
        }
      ]
    },
    {
      "cell_type": "markdown",
      "metadata": {
        "id": "virlJO3lIl00",
        "colab_type": "text"
      },
      "source": [
        "## Comparison between manual and Scikit learn model "
      ]
    },
    {
      "cell_type": "code",
      "metadata": {
        "id": "vmbnbYHIIsgL",
        "colab_type": "code",
        "colab": {
          "base_uri": "https://localhost:8080/",
          "height": 122
        },
        "outputId": "4fb51373-1c2e-4502-d772-ce57b8580fc8"
      },
      "source": [
        "# Manual weights\n",
        "manual_weights = np.round(weights['W'].reshape(-1),4)\n",
        "print(manual_weights)\n",
        "# Scikit weights\n",
        "scikit_weights = np.round(lr.coef_,4)\n",
        "print(scikit_weights)\n",
        "\n",
        "# manual bias \n",
        "manual_bias = np.round(weights['B'],4)\n",
        "print(manual_bias)\n",
        "\n",
        "# scikit_bias\n",
        "print(np.round(lr.intercept_,4))"
      ],
      "execution_count": 93,
      "outputs": [
        {
          "output_type": "stream",
          "text": [
            "[-1.025   1.0237 -0.1634  0.7399 -1.9648  2.6328 -0.213  -3.2193  2.6167\n",
            " -1.5826 -2.1343  1.1568 -3.7551]\n",
            "[[-1.0527  0.9918 -0.0753  0.7323 -1.9545  2.5364 -0.1653 -3.2568  2.7195\n",
            "  -1.5684 -2.1141  1.1597 -3.8691]]\n",
            "[[22.4757]]\n",
            "[22.5523]\n"
          ],
          "name": "stdout"
        }
      ]
    },
    {
      "cell_type": "markdown",
      "metadata": {
        "id": "9ZM4CP7Rf1Lu",
        "colab_type": "text"
      },
      "source": [
        "# Neural Network Regression"
      ]
    },
    {
      "cell_type": "markdown",
      "metadata": {
        "id": "sVuVsVkRf5Sz",
        "colab_type": "text"
      },
      "source": [
        "## Sigmoid"
      ]
    },
    {
      "cell_type": "code",
      "metadata": {
        "id": "gbwpblbgf7kt",
        "colab_type": "code",
        "colab": {
          "base_uri": "https://localhost:8080/",
          "height": 313
        },
        "outputId": "b1ee4533-2723-4bc0-b3ce-78043bab8210"
      },
      "source": [
        "def sigmoid(x: ndarray) -> ndarray:\n",
        "\n",
        "    # sigmoid is a monotonic function, having a value between 0 and 1, non linear\n",
        "    # its derivative contain its own function dSigmoid/dX = sigmoid(x) * (1-sigmoid(X))\n",
        "\n",
        "    return 1 / (1 + np.exp(-1.0*x))\n",
        "\n",
        "\n",
        "plt.plot(np.arange(-5, 5, 0.01), sigmoid(np.arange(-5, 5, 0.01)))\n",
        "plt.title('Sigmoid function')\n",
        "plt.xlabel('X')\n",
        "plt.ylabel(\"sigmoid(x)\")"
      ],
      "execution_count": 94,
      "outputs": [
        {
          "output_type": "execute_result",
          "data": {
            "text/plain": [
              "Text(0, 0.5, 'sigmoid(x)')"
            ]
          },
          "metadata": {
            "tags": []
          },
          "execution_count": 94
        },
        {
          "output_type": "display_data",
          "data": {
            "image/png": "[encoded data removed]",
            "text/plain": [
              "<Figure size 432x288 with 1 Axes>"
            ]
          },
          "metadata": {
            "tags": [],
            "needs_background": "light"
          }
        }
      ]
    },
    {
      "cell_type": "markdown",
      "metadata": {
        "id": "VOeIi4sbgAyL",
        "colab_type": "text"
      },
      "source": [
        "## Forward and Backward Pass"
      ]
    },
    {
      "cell_type": "code",
      "metadata": {
        "id": "VTqTjF2sXQkS",
        "colab_type": "code",
        "colab": {}
      },
      "source": [
        "def forward_loss(X: ndarray,y: ndarray,weights: Dict[str, ndarray]) -> Tuple[Dict[str, ndarray], float]:\n",
        "    \n",
        "    # Compute the forward pass and the loss    \n",
        "    \n",
        "    M1 = np.dot(X, weights['W1'])\n",
        "\n",
        "    N1 = M1 + weights['B1']\n",
        "\n",
        "    O1 = sigmoid(N1)\n",
        "    \n",
        "    M2 = np.dot(O1, weights['W2'])\n",
        "\n",
        "    P = M2 + weights['B2']    \n",
        "\n",
        "    loss = np.mean(np.power(y - P, 2))\n",
        "\n",
        "    forward_info: Dict[str, ndarray] = {}\n",
        "    forward_info['X'] = X\n",
        "    forward_info['M1'] = M1\n",
        "    forward_info['N1'] = N1\n",
        "    forward_info['O1'] = O1\n",
        "    forward_info['M2'] = M2\n",
        "    forward_info['P'] = P\n",
        "    forward_info['y'] = y\n",
        "\n",
        "    return forward_info, loss\n",
        "\n",
        "def loss_gradients(forward_info: Dict[str, ndarray], weights: Dict[str, ndarray]) -> Dict[str, ndarray]:\n",
        "      \n",
        "    # Compute the partial derivatives of the loss with respect to each of the parameters in the neural network\n",
        "\n",
        "    # Dividing by 2m ensures that the cost function doesn't depend on the number of elements in the training set.\n",
        "    # This allows a better comparison across models.\n",
        "\n",
        "    dLdP = -(forward_info['y'] - forward_info['P'])\n",
        "    \n",
        "    dPdM2 = np.ones_like(forward_info['M2'])\n",
        "\n",
        "    dLdM2 = dLdP * dPdM2\n",
        "  \n",
        "    dPdB2 = np.ones_like(weights['B2'])\n",
        "\n",
        "    dLdB2 = (dLdP * dPdB2).sum(axis=0)\n",
        "    \n",
        "    dM2dW2 = np.transpose(forward_info['O1'], (1, 0))\n",
        "    \n",
        "    dLdW2 = np.dot(dM2dW2, dLdP)\n",
        "\n",
        "    dM2dO1 = np.transpose(weights['W2'], (1, 0)) \n",
        "\n",
        "    dLdO1 = np.dot(dLdM2, dM2dO1)\n",
        "    \n",
        "    dO1dN1 = sigmoid(forward_info['N1']) * (1- sigmoid(forward_info['N1']))\n",
        "    \n",
        "    dLdN1 = dLdO1 * dO1dN1\n",
        "    \n",
        "    dN1dB1 = np.ones_like(weights['B1'])\n",
        "    \n",
        "    dN1dM1 = np.ones_like(forward_info['M1'])\n",
        "    \n",
        "    dLdB1 = (dLdN1 * dN1dB1).sum(axis=0)\n",
        "    \n",
        "    dLdM1 = dLdN1 * dN1dM1\n",
        "    \n",
        "    dM1dW1 = np.transpose(forward_info['X'], (1, 0)) \n",
        "\n",
        "    dLdW1 = np.dot(dM1dW1, dLdM1)\n",
        "\n",
        "    loss_gradients: Dict[str, ndarray] = {}\n",
        "    loss_gradients['W2'] = dLdW2\n",
        "    loss_gradients['B2'] = dLdB2.sum(axis=0)\n",
        "    loss_gradients['W1'] = dLdW1\n",
        "    loss_gradients['B1'] = dLdB1.sum(axis=0)\n",
        "    \n",
        "    return loss_gradients"
      ],
      "execution_count": 95,
      "outputs": []
    },
    {
      "cell_type": "markdown",
      "metadata": {
        "id": "eLB1_MGGgIcY",
        "colab_type": "text"
      },
      "source": [
        "## Init weights"
      ]
    },
    {
      "cell_type": "code",
      "metadata": {
        "id": "LsjYv5LUgN3-",
        "colab_type": "code",
        "colab": {}
      },
      "source": [
        "def init_weights(input_size: int, hidden_size: int) -> Dict[str, ndarray]:\n",
        "    \n",
        "    # Initialize weights during the forward pass\n",
        "\n",
        "    weights: Dict[str, ndarray] = {}\n",
        "    weights['W1'] = np.random.randn(input_size, hidden_size)\n",
        "    weights['B1'] = np.random.randn(1, hidden_size)\n",
        "    weights['W2'] = np.random.randn(hidden_size, 1)\n",
        "    weights['B2'] = np.random.randn(1, 1)\n",
        "    return weights\n",
        "\n",
        "\n",
        "def predict(X: ndarray, \n",
        "            weights: Dict[str, ndarray]) -> ndarray:\n",
        "    # Genrate predictions \n",
        "    \n",
        "    M1 = np.dot(X, weights['W1'])\n",
        "\n",
        "    N1 = M1 + weights['B1']\n",
        "\n",
        "    O1 = sigmoid(N1)\n",
        "\n",
        "    M2 = np.dot(O1, weights['W2'])\n",
        "\n",
        "    P = M2 + weights['B2']    \n",
        "\n",
        "    return P"
      ],
      "execution_count": 96,
      "outputs": []
    },
    {
      "cell_type": "markdown",
      "metadata": {
        "id": "1q10iLN1glBs",
        "colab_type": "text"
      },
      "source": [
        "## Train Function"
      ]
    },
    {
      "cell_type": "code",
      "metadata": {
        "id": "_jLNtJVOgnvw",
        "colab_type": "code",
        "colab": {}
      },
      "source": [
        "def train(X_train: ndarray, y_train: ndarray,\n",
        "          X_test: ndarray, y_test: ndarray,\n",
        "          n_iter: int = 1000,\n",
        "          test_every: int = 1000,\n",
        "          learning_rate: float = 0.01,\n",
        "          hidden_size= 13,\n",
        "          batch_size: int = 100,\n",
        "          return_losses: bool = False, \n",
        "          return_weights: bool = False, \n",
        "          return_scores: bool = False) -> None:\n",
        "\n",
        "    start = 0\n",
        "\n",
        "    # Initialize weights\n",
        "    weights = init_weights(X_train.shape[1], \n",
        "                           hidden_size=hidden_size)\n",
        "\n",
        "    # Permute data\n",
        "    X_train, y_train = permute_data(X_train, y_train)\n",
        "    \n",
        "\n",
        "    losses = []\n",
        "        \n",
        "    val_scores = []\n",
        "\n",
        "    for i in range(n_iter):\n",
        "\n",
        "        # Generate batch\n",
        "        if start >= X_train.shape[0]:\n",
        "            X_train, y_train = permute_data(X_train, y_train)\n",
        "            start = 0\n",
        "        \n",
        "        X_batch, y_batch = generate_batch(X_train, y_train, start, batch_size)\n",
        "        start += batch_size\n",
        "    \n",
        "        # Train net using generated batch\n",
        "        forward_info, loss = forward_loss(X_batch, y_batch, weights)\n",
        "\n",
        "        if return_losses:\n",
        "            losses.append(loss)\n",
        "\n",
        "        loss_grads = loss_gradients(forward_info, weights)\n",
        "        for key in weights.keys():\n",
        "            weights[key] -= learning_rate * loss_grads[key]\n",
        "        \n",
        "        if return_scores:\n",
        "            if i % test_every == 0 and i != 0:\n",
        "                preds = predict(X_test, weights)\n",
        "                val_scores.append(r2_score(preds, y_test))\n",
        "\n",
        "    if return_weights:\n",
        "        return losses, weights, val_scores\n",
        "    \n",
        "    return None\n"
      ],
      "execution_count": 97,
      "outputs": []
    },
    {
      "cell_type": "markdown",
      "metadata": {
        "id": "ZHHTU89ccJ-F",
        "colab_type": "text"
      },
      "source": [
        "## Training"
      ]
    },
    {
      "cell_type": "code",
      "metadata": {
        "id": "4ctZEroKcJOe",
        "colab_type": "code",
        "colab": {}
      },
      "source": [
        "num_iter = 10000\n",
        "test_every = 1000\n",
        "train_info = train(X_train, y_train, X_test, y_test,\n",
        "                   test_every=test_every,\n",
        "                   n_iter=num_iter,\n",
        "                   learning_rate=0.001,\n",
        "                   batch_size=23,\n",
        "                   return_losses=True,\n",
        "                   return_weights=True,\n",
        "                   return_scores=True)\n",
        "losses = train_info[0]\n",
        "weights = train_info[1]\n",
        "val_scores = train_info[2]\n",
        "\n"
      ],
      "execution_count": 98,
      "outputs": []
    },
    {
      "cell_type": "markdown",
      "metadata": {
        "id": "9m2GNyAwdiR_",
        "colab_type": "text"
      },
      "source": [
        "## Prediction"
      ]
    },
    {
      "cell_type": "code",
      "metadata": {
        "id": "9GYiQLDkdrW2",
        "colab_type": "code",
        "colab": {}
      },
      "source": [
        "preds = predict(X_test, weights)"
      ],
      "execution_count": 99,
      "outputs": []
    },
    {
      "cell_type": "code",
      "metadata": {
        "id": "PThh-ekGdqS8",
        "colab_type": "code",
        "colab": {
          "base_uri": "https://localhost:8080/",
          "height": 52
        },
        "outputId": "4c7b14d4-ae8c-4c17-9e66-4dd3961bc834"
      },
      "source": [
        "print(\"Mean absolute error:\", round(mae(preds, y_test), 4))\n",
        "print(\"Root mean squared error:\", round(rmse(preds, y_test), 4))"
      ],
      "execution_count": 100,
      "outputs": [
        {
          "output_type": "stream",
          "text": [
            "Mean absolute error: 2.7356\n",
            "Root mean squared error: 3.9277\n"
          ],
          "name": "stdout"
        }
      ]
    },
    {
      "cell_type": "code",
      "metadata": {
        "id": "zJxqAwAzd2JF",
        "colab_type": "code",
        "colab": {
          "base_uri": "https://localhost:8080/",
          "height": 328
        },
        "outputId": "1a9ef734-5811-4fa9-b11b-7b27a62fd513"
      },
      "source": [
        "plt.xlabel(\"Predicted value\")\n",
        "plt.ylabel(\"Actual value\")\n",
        "plt.title(\"Predicted vs. Actual values for\\ncustom neural network regression model\");\n",
        "plt.xlim([0, 51])\n",
        "plt.ylim([0, 51])\n",
        "plt.scatter(preds, y_test)\n",
        "plt.plot([0, 51], [0, 51])"
      ],
      "execution_count": 101,
      "outputs": [
        {
          "output_type": "execute_result",
          "data": {
            "text/plain": [
              "[<matplotlib.lines.Line2D at 0x7f68c68cd5f8>]"
            ]
          },
          "metadata": {
            "tags": []
          },
          "execution_count": 101
        },
        {
          "output_type": "display_data",
          "data": {
            "image/png": "[encoded data removed]",
            "text/plain": [
              "<Figure size 432x288 with 1 Axes>"
            ]
          },
          "metadata": {
            "tags": [],
            "needs_background": "light"
          }
        }
      ]
    }
  ]
}