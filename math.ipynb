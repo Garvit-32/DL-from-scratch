{
  "nbformat": 4,
  "nbformat_minor": 0,
  "metadata": {
    "colab": {
      "name": "math.ipynb",
      "provenance": [],
      "collapsed_sections": [],
      "toc_visible": true
    },
    "kernelspec": {
      "name": "python3",
      "display_name": "Python 3"
    }
  },
  "cells": [
    {
      "cell_type": "markdown",
      "metadata": {
        "id": "IVuMK-s7poaG",
        "colab_type": "text"
      },
      "source": [
        "# Imports\n"
      ]
    },
    {
      "cell_type": "code",
      "metadata": {
        "id": "EMF8RpL2pq9f",
        "colab_type": "code",
        "colab": {}
      },
      "source": [
        "import matplotlib.pyplot as plt\n",
        "import matplotlib\n",
        "import numpy as np\n",
        "from numpy import ndarray\n",
        "from typing import List, Callable, Dict"
      ],
      "execution_count": 48,
      "outputs": []
    },
    {
      "cell_type": "markdown",
      "metadata": {
        "id": "qUlVBdqvpxgN",
        "colab_type": "text"
      },
      "source": [
        "# Basic Functions"
      ]
    },
    {
      "cell_type": "code",
      "metadata": {
        "id": "EaI6kV_Xpzym",
        "colab_type": "code",
        "colab": {}
      },
      "source": [
        "def square(x):\n",
        "    return np.power(x, 2)\n",
        "\n",
        "def relu(x):\n",
        "    return np.maximum(0, x)\n",
        "\n",
        "def sigmoid(x):\n",
        "    return 1 / (1+np.exp(-x))\n",
        "\n",
        "# A function to calculate deriv\n",
        "def deriv(func: Callable[[ndarray], ndarray], input_: ndarray, diff: float = 0.001) -> ndarray:\n",
        "    return (func(input_ + diff) - func(input_ - diff)) / (2 * diff)"
      ],
      "execution_count": 49,
      "outputs": []
    },
    {
      "cell_type": "markdown",
      "metadata": {
        "id": "Q0Zf1pU3p3J3",
        "colab_type": "text"
      },
      "source": [
        "Plot"
      ]
    },
    {
      "cell_type": "code",
      "metadata": {
        "id": "m7P2Xn7jp4f-",
        "colab_type": "code",
        "colab": {
          "base_uri": "https://localhost:8080/",
          "height": 422
        },
        "outputId": "0099395e-18d9-44a6-dcbf-adf587afcf32"
      },
      "source": [
        "fig, ax = plt.subplots(1, 2, sharey=True, figsize=(12, 6))  # 2 Rows, 1 Col\n",
        "\n",
        "input_range = np.arange(-4,4, 0.01)\n",
        "ax[0].plot(input_range, sigmoid(input_range))\n",
        "ax[0].plot(input_range, sigmoid(input_range))\n",
        "ax[0].set_title('Sigmoid function')\n",
        "ax[0].set_xlabel('input')\n",
        "ax[0].set_ylabel('output')\n",
        "\n",
        "ax[1].plot(input_range, relu(input_range))\n",
        "ax[1].plot(input_range, relu(input_range))\n",
        "ax[1].set_title('\"ReLU\" function')\n",
        "ax[1].set_xlabel('input')\n",
        "ax[1].set_ylabel('output')"
      ],
      "execution_count": 50,
      "outputs": [
        {
          "output_type": "execute_result",
          "data": {
            "text/plain": [
              "Text(0, 0.5, 'output')"
            ]
          },
          "metadata": {
            "tags": []
          },
          "execution_count": 50
        },
        {
          "output_type": "display_data",
          "data": {
            "image/png": "[encoded data removed]",
            "text/plain": [
              "<Figure size 864x432 with 2 Axes>"
            ]
          },
          "metadata": {
            "tags": [],
            "needs_background": "light"
          }
        }
      ]
    },
    {
      "cell_type": "markdown",
      "metadata": {
        "id": "jNQTR17EqFBr",
        "colab_type": "text"
      },
      "source": [
        "# Chain"
      ]
    },
    {
      "cell_type": "code",
      "metadata": {
        "id": "FdSSPV1wqHmi",
        "colab_type": "code",
        "colab": {}
      },
      "source": [
        "# A Function takes in an ndarray as an argument and produces an ndarray\n",
        "Array_Function = Callable[[ndarray], ndarray]\n",
        "\n",
        "# A Chain is a list of function\n",
        "Chain = List[Array_Function]"
      ],
      "execution_count": 51,
      "outputs": []
    },
    {
      "cell_type": "code",
      "metadata": {
        "id": "rJy9qXT-qOFW",
        "colab_type": "code",
        "colab": {}
      },
      "source": [
        "def chain_length_2(chain: Chain, x: ndarray) -> ndarray:\n",
        "\n",
        "    # 'Evaluate two function in a row in a chain'\n",
        "    assert len(chain) == 2\n",
        "\n",
        "    f1 = chain[0]\n",
        "    f2 = chain[1]\n",
        "\n",
        "    return f2(f1(x))"
      ],
      "execution_count": 52,
      "outputs": []
    },
    {
      "cell_type": "markdown",
      "metadata": {
        "id": "IbuuLK9MqibP",
        "colab_type": "text"
      },
      "source": [
        "## Chain Deriv"
      ]
    },
    {
      "cell_type": "code",
      "metadata": {
        "id": "wv1dHZY8qnU3",
        "colab_type": "code",
        "colab": {}
      },
      "source": [
        "def chain_deriv_2(chain: Chain, input_range: ndarray) -> ndarray:\n",
        "    # Uses chain rule (f2(f1(x))' = f2'(f1(x)) * f1'(x)\n",
        "\n",
        "    assert len(chain) == 2\n",
        "\n",
        "    assert input_range.ndim == 1\n",
        "\n",
        "    f1 = chain[0]\n",
        "    f2 = chain[1]\n",
        "\n",
        "    # df1/dx\n",
        "    df1dx = deriv(f1,input_range)\n",
        "\n",
        "    # df2/dx\n",
        "    df2du = deriv(f2,f1(input_range))\n",
        "\n",
        "    return df1dx * df2du"
      ],
      "execution_count": 53,
      "outputs": []
    },
    {
      "cell_type": "code",
      "metadata": {
        "id": "LzYWIr4kukkp",
        "colab_type": "code",
        "colab": {}
      },
      "source": [
        "def plot_chain(ax, chain: Chain, input_range: ndarray, length: int = 2) -> ndarray:\n",
        "\n",
        "    assert input_range.ndim == 1\n",
        "\n",
        "    if length == 2:\n",
        "        output_range = chain_length_2(chain, input_range)\n",
        "    elif length == 3:\n",
        "        output_range = chain_length_3(chain, input_range)\n",
        "    ax.plot(input_range, output_range)\n",
        "\n",
        "\n",
        "def plot_chain_deriv(ax, chain: Chain, input_range: ndarray, length: int = 2) -> ndarray:\n",
        "\n",
        "    if length == 2:\n",
        "        output_range = chain_deriv_2(chain, input_range)\n",
        "    elif length == 3:\n",
        "        output_range = chain_deriv_3(chain, input_range)\n",
        "    ax.plot(input_range, output_range)\n"
      ],
      "execution_count": 54,
      "outputs": []
    },
    {
      "cell_type": "markdown",
      "metadata": {
        "id": "5StXWmavxBAv",
        "colab_type": "text"
      },
      "source": [
        "**Example**"
      ]
    },
    {
      "cell_type": "code",
      "metadata": {
        "id": "Dz7-eKK4xCpv",
        "colab_type": "code",
        "colab": {
          "base_uri": "https://localhost:8080/",
          "height": 516
        },
        "outputId": "d01ba5a4-add0-49f2-8898-69dd7eccdf8c"
      },
      "source": [
        "fig, ax = plt.subplots(1, 2, sharey=True, figsize=(16, 8))  # 2 Rows, 1 Col\n",
        "\n",
        "chain_1 = [square, sigmoid]\n",
        "chain_2 = [sigmoid, square]\n",
        "\n",
        "PLOT_RANGE = np.arange(-3, 3, 0.01)\n",
        "plot_chain(ax[0], chain_1, PLOT_RANGE)\n",
        "plot_chain_deriv(ax[0], chain_1, PLOT_RANGE)\n",
        "\n",
        "ax[0].legend([\"$f(x)$\", \"$\\\\frac{df}{dx}$\"])\n",
        "ax[0].set_title(\"Function and derivative for\\n$f(x) = sigmoid(square(x))$\")\n",
        "\n",
        "plot_chain(ax[1], chain_2, PLOT_RANGE)\n",
        "plot_chain_deriv(ax[1], chain_2, PLOT_RANGE)\n",
        "ax[1].legend([\"$f(x)$\", \"$\\\\frac{df}{dx}$\"])\n",
        "ax[1].set_title(\"Function and derivative for\\n$f(x) = square(sigmoid(x))$\");"
      ],
      "execution_count": 55,
      "outputs": [
        {
          "output_type": "display_data",
          "data": {
            "image/png": "[encoded data removed]",
            "text/plain": [
              "<Figure size 1152x576 with 2 Axes>"
            ]
          },
          "metadata": {
            "tags": [],
            "needs_background": "light"
          }
        }
      ]
    },
    {
      "cell_type": "markdown",
      "metadata": {
        "id": "SewEB9UQ606C",
        "colab_type": "text"
      },
      "source": [
        "# Chain of length 3"
      ]
    },
    {
      "cell_type": "code",
      "metadata": {
        "id": "NQYrY1DE8Xm4",
        "colab_type": "code",
        "colab": {}
      },
      "source": [
        "def chain_length_3(chain:Chain,x:ndarray) -> ndarray:\n",
        "\n",
        "    # Evaluates three functions in a row, in a \"Chain\".\n",
        "    assert len(chain) == 3\n",
        "\n",
        "\n",
        "    f1 = chain[0]\n",
        "    f2 = chain[1]\n",
        "    f3 = chain[2]\n",
        "\n",
        "    return f3(f2(f1(x)))\n",
        "\n",
        "def chain_deriv_3(chain:Chain,input_range:ndarray) -> ndarray:\n",
        "\n",
        "    #Uses the chain rule to compute the derivative of three nested functions:\n",
        "    # (f3(f2(f1)))' = f3'(f2(f1(x))) * f2'(f1(x)) * f1'(x)\n",
        "\n",
        "    assert len(chain) == 3\n",
        "\n",
        "    f1 = chain[0]\n",
        "    f2 = chain[1]\n",
        "    f3 = chain[2]\n",
        "\n",
        "    # f1(x)\n",
        "    f1_of_x = f1(input_range)\n",
        "\n",
        "    # f2(f1(x))\n",
        "    f2_of_x = f2(f1_of_x)\n",
        "\n",
        "    # df3du\n",
        "    df3du = deriv(f3,f2_of_x)\n",
        "\n",
        "    # df2du\n",
        "    df2du = deriv(f2,f1_of_x)\n",
        "\n",
        "    # df1dx\n",
        "    df1dx = deriv(f1,input_range)\n",
        "\n",
        "    return df1dx * df2du * df3du\n"
      ],
      "execution_count": 56,
      "outputs": []
    },
    {
      "cell_type": "markdown",
      "metadata": {
        "id": "6xGWtEd68Y7W",
        "colab_type": "text"
      },
      "source": [
        "**Plot**"
      ]
    },
    {
      "cell_type": "code",
      "metadata": {
        "id": "ZmkpJAy06lB3",
        "colab_type": "code",
        "colab": {
          "base_uri": "https://localhost:8080/",
          "height": 516
        },
        "outputId": "f0256337-465c-4137-d8cc-fe4778d6f2fe"
      },
      "source": [
        "fig, ax = plt.subplots(1, 2, sharey=True, figsize=(16, 8))  # 2 Rows, 1 Col\n",
        "\n",
        "chain_1 = [relu, square, sigmoid]\n",
        "chain_2 = [relu, sigmoid, square]\n",
        "\n",
        "PLOT_RANGE = np.arange(-3, 3, 0.01)\n",
        "plot_chain(ax[0], chain_1, PLOT_RANGE, length=3)\n",
        "plot_chain_deriv(ax[0], chain_1, PLOT_RANGE, length=3)\n",
        "\n",
        "ax[0].legend([\"$f(x)$\", \"$\\\\frac{df}{dx}$\"])\n",
        "ax[0].set_title(\"Function and derivative for\\n$f(x) = sigmoid(square(leakyRrelu(x)))$\")\n",
        "\n",
        "plot_chain(ax[1], chain_2, PLOT_RANGE, length=3)\n",
        "plot_chain_deriv(ax[1], chain_2, PLOT_RANGE, length=3)\n",
        "ax[1].legend([\"$f(x)$\", \"$\\\\frac{df}{dx}$\"])\n",
        "ax[1].set_title(\"Function and derivative for\\n$f(x) = square(sigmoid(leakyRelu(x)))$\");\n",
        "\n",
        "# plt.savefig(IMG_FOLDER_PATH + \"09_plot_chain_rule_2.png\");\n",
        "# plt.savefig(PDF_IMG_FOLDER_PATH + \"09_plot_chain_rule_2.pdf\");"
      ],
      "execution_count": 57,
      "outputs": [
        {
          "output_type": "display_data",
          "data": {
            "image/png": "[encoded data removed]",
            "text/plain": [
              "<Figure size 1152x576 with 2 Axes>"
            ]
          },
          "metadata": {
            "tags": [],
            "needs_background": "light"
          }
        }
      ]
    },
    {
      "cell_type": "markdown",
      "metadata": {
        "id": "o_ONzy4RA7GF",
        "colab_type": "text"
      },
      "source": [
        "# Function with multiple inputs"
      ]
    },
    {
      "cell_type": "code",
      "metadata": {
        "id": "u2EVd0_8A_cx",
        "colab_type": "code",
        "colab": {}
      },
      "source": [
        "def multiple_inputs_add(x: ndarray, y: ndarray, sigma: Array_Function) -> float:\n",
        "\n",
        "    # forward pass\n",
        "\n",
        "    assert x.shape == y.shape\n",
        "\n",
        "    a = x + y\n",
        "    return sigma(a)\n",
        "\n",
        "\n",
        "def multiple_inputs_add_backward(x:ndarray,y:ndarray,sigma:Array_Function) -> float:\n",
        "\n",
        "    # Computes the derivative of this simple function with respect to both inputs\n",
        "\n",
        "    a = x + y\n",
        "\n",
        "    dsda = deriv(sigma,a)\n",
        "\n",
        "    dadx,dady = 1,1\n",
        "\n",
        "    return dsda * dadx, dsda * dady"
      ],
      "execution_count": null,
      "outputs": []
    },
    {
      "cell_type": "markdown",
      "metadata": {
        "id": "lKIF8shrBBzm",
        "colab_type": "text"
      },
      "source": [
        "# Function with matrix multiplication"
      ]
    },
    {
      "cell_type": "code",
      "metadata": {
        "id": "Nrtp8-dzIbls",
        "colab_type": "code",
        "colab": {}
      },
      "source": [
        "def matmul_forward(X: ndarray, W: ndarray) -> ndarray:\n",
        "\n",
        "    # Computes the forward pass of a matrix multiplication\n",
        "\n",
        "    assert X.shape[1] == W.shape[0]\n",
        "\n",
        "    return np.dot(X, W)"
      ],
      "execution_count": 58,
      "outputs": []
    },
    {
      "cell_type": "code",
      "metadata": {
        "id": "SKvb47p5BHpI",
        "colab_type": "code",
        "colab": {}
      },
      "source": [
        "def matmul_backward_first(X: ndarray, W: ndarray) -> ndarray:\n",
        "\n",
        "    # X =[x1,x2,x3,x4,x5]\n",
        "    # w= [w1\n",
        "    #     w2\n",
        "    #     w3]\n",
        "    # N = X.W =  [x1 * w1 , x2 * w2 ,x3 * w3]\n",
        "    # And looking at this, we can see that if\n",
        "    # for example, x1 changes by ϵ units, then N will change by w1 × ϵ units\n",
        "\n",
        "    # dN/dX = [w1,w2,w3,w4,w5]\n",
        "\n",
        "    # dN/dX = transpose of W\n",
        "\n",
        "    dNdX = np.transpose(W, (1, 0))\n",
        "    return dNdX"
      ],
      "execution_count": 59,
      "outputs": []
    },
    {
      "cell_type": "code",
      "metadata": {
        "id": "-2JHdmioId5P",
        "colab_type": "code",
        "colab": {
          "base_uri": "https://localhost:8080/",
          "height": 87
        },
        "outputId": "05f452eb-cb3f-4667-fd3c-f17532616f2e"
      },
      "source": [
        "# Example\n",
        "X = np.random.randn(1, 3)\n",
        "W = np.random.randn(3, 1)\n",
        "\n",
        "print(W)\n",
        "print(matmul_backward_first(X, W))"
      ],
      "execution_count": 60,
      "outputs": [
        {
          "output_type": "stream",
          "text": [
            "[[ 0.01270208]\n",
            " [-0.2315007 ]\n",
            " [-0.71488677]]\n",
            "[[ 0.01270208 -0.2315007  -0.71488677]]\n"
          ],
          "name": "stdout"
        }
      ]
    },
    {
      "cell_type": "code",
      "metadata": {
        "id": "e8kuhIyNJSjq",
        "colab_type": "code",
        "colab": {}
      },
      "source": [
        "def matrix_forward_extra(X:ndarray,W:ndarray,sigma:Array_Function) -> ndarray:\n",
        "\n",
        "    assert X.shape[1] == W.shape[0]\n",
        "    \n",
        "    N = np.dot(X,W)\n",
        "\n",
        "    S = sigma(N)\n",
        "    \n",
        "    return S"
      ],
      "execution_count": null,
      "outputs": []
    },
    {
      "cell_type": "markdown",
      "metadata": {
        "id": "NTL05HvDKFcE",
        "colab_type": "text"
      },
      "source": [
        "# Derivation of a function with matrix multiplication"
      ]
    },
    {
      "cell_type": "code",
      "metadata": {
        "id": "P6EUOsPmKMME",
        "colab_type": "code",
        "colab": {}
      },
      "source": [
        "def matrix_function_backward_1(X: ndarray, W: ndarray, sigma: Array_Function) -> ndarray:\n",
        "\n",
        "    assert X.shape[1] == W.shape[0]\n",
        "\n",
        "    N = np.dot(X, W)\n",
        "\n",
        "    S = sigma(N)\n",
        "\n",
        "    dSdN = deriv(sigma, N)\n",
        "\n",
        "    dNdX = np.transpose(W, (1, 0))\n",
        "\n",
        "    return np.dot(dSdN, dNdX)\n"
      ],
      "execution_count": 62,
      "outputs": []
    },
    {
      "cell_type": "code",
      "metadata": {
        "id": "MD6550CiK5a2",
        "colab_type": "code",
        "colab": {
          "base_uri": "https://localhost:8080/",
          "height": 34
        },
        "outputId": "397cd780-47ec-4e3d-caf6-97e99b4868ed"
      },
      "source": [
        "# Example\n",
        "print(matrix_function_backward_1(X,W,sigmoid))"
      ],
      "execution_count": 63,
      "outputs": [
        {
          "output_type": "stream",
          "text": [
            "[[ 0.00171588 -0.03127259 -0.09657145]]\n"
          ],
          "name": "stdout"
        }
      ]
    },
    {
      "cell_type": "markdown",
      "metadata": {
        "id": "uR-rutYpMyAT",
        "colab_type": "text"
      },
      "source": [
        "# Matrix Function with Sum\n"
      ]
    },
    {
      "cell_type": "code",
      "metadata": {
        "id": "kpuJxSMFM2l6",
        "colab_type": "code",
        "colab": {}
      },
      "source": [
        "def matrix_function_forward_sum(X: ndarray, W: ndarray, sigma: Array_Function) -> float:\n",
        "\n",
        "    assert X.shape[1] == W.shape[0]\n",
        "\n",
        "    N = np.dot(X, W)\n",
        "\n",
        "    S = sigma(N)\n",
        "\n",
        "    L = np.sum(S)\n",
        "\n",
        "    return L\n",
        "\n",
        "\n",
        "def matrix_function_backward_sum_1(X: ndarray, W: ndarray, sigma: Array_Function) -> ndarray:\n",
        "\n",
        "    # Compute derivative of matrix function with a sum with respect to the first matrix input\n",
        "\n",
        "    assert X.shape[1] == W.shape[0]\n",
        "\n",
        "    N = np.dot(X, W)\n",
        "\n",
        "    S = sigma(N)\n",
        "\n",
        "    L = np.sum(S)\n",
        "\n",
        "    dLdS = np.ones_like(S)\n",
        "\n",
        "    dSdN = deriv(sigma, N)\n",
        "\n",
        "    dLdN = dLdS * dSdN\n",
        "\n",
        "    dNdX = np.transpose(W, (1, 0))\n",
        "\n",
        "    dLdX = np.dot(dSdN, dNdX)\n",
        "\n",
        "    return dLdX"
      ],
      "execution_count": null,
      "outputs": []
    }
  ]
}